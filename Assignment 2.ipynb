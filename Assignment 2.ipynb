{
 "cells": [
  {
   "cell_type": "markdown",
   "metadata": {
    "id": "484hQNHbTxm4"
   },
   "source": [
    "## 1. Describe Yelp data. (15)"
   ]
  },
  {
   "cell_type": "code",
   "execution_count": 67,
   "metadata": {
    "colab": {
     "base_uri": "https://localhost:8080/"
    },
    "id": "9g0qEi_LTNmi",
    "outputId": "a158ccb7-3e38-421c-8cf5-a8eaa942d4cf"
   },
   "outputs": [],
   "source": [
    "import stanza\n",
    "import numpy as np\n",
    "import pandas as pd\n",
    "import seaborn as sns\n",
    "import matplotlib.pyplot as plt\n",
    "from sklearn.metrics import confusion_matrix, ConfusionMatrixDisplay, f1_score"
   ]
  },
  {
   "cell_type": "code",
   "execution_count": 59,
   "metadata": {
    "colab": {
     "base_uri": "https://localhost:8080/",
     "height": 423
    },
    "id": "GMxSFePuTk4b",
    "outputId": "ed96414d-f8cb-41d5-acc5-83d2d2cd17c3"
   },
   "outputs": [
    {
     "data": {
      "text/html": [
       "<div>\n",
       "<style scoped>\n",
       "    .dataframe tbody tr th:only-of-type {\n",
       "        vertical-align: middle;\n",
       "    }\n",
       "\n",
       "    .dataframe tbody tr th {\n",
       "        vertical-align: top;\n",
       "    }\n",
       "\n",
       "    .dataframe thead th {\n",
       "        text-align: right;\n",
       "    }\n",
       "</style>\n",
       "<table border=\"1\" class=\"dataframe\">\n",
       "  <thead>\n",
       "    <tr style=\"text-align: right;\">\n",
       "      <th></th>\n",
       "      <th>text</th>\n",
       "      <th>class</th>\n",
       "    </tr>\n",
       "  </thead>\n",
       "  <tbody>\n",
       "    <tr>\n",
       "      <th>0</th>\n",
       "      <td>Wow... Loved this place.</td>\n",
       "      <td>1</td>\n",
       "    </tr>\n",
       "    <tr>\n",
       "      <th>1</th>\n",
       "      <td>Crust is not good.</td>\n",
       "      <td>0</td>\n",
       "    </tr>\n",
       "    <tr>\n",
       "      <th>2</th>\n",
       "      <td>Not tasty and the texture was just nasty.</td>\n",
       "      <td>0</td>\n",
       "    </tr>\n",
       "    <tr>\n",
       "      <th>3</th>\n",
       "      <td>Stopped by during the late May bank holiday of...</td>\n",
       "      <td>1</td>\n",
       "    </tr>\n",
       "    <tr>\n",
       "      <th>4</th>\n",
       "      <td>The selection on the menu was great and so wer...</td>\n",
       "      <td>1</td>\n",
       "    </tr>\n",
       "    <tr>\n",
       "      <th>...</th>\n",
       "      <td>...</td>\n",
       "      <td>...</td>\n",
       "    </tr>\n",
       "    <tr>\n",
       "      <th>995</th>\n",
       "      <td>I think food should have flavor and texture an...</td>\n",
       "      <td>0</td>\n",
       "    </tr>\n",
       "    <tr>\n",
       "      <th>996</th>\n",
       "      <td>Appetite instantly gone.</td>\n",
       "      <td>0</td>\n",
       "    </tr>\n",
       "    <tr>\n",
       "      <th>997</th>\n",
       "      <td>Overall I was not impressed and would not go b...</td>\n",
       "      <td>0</td>\n",
       "    </tr>\n",
       "    <tr>\n",
       "      <th>998</th>\n",
       "      <td>The whole experience was underwhelming, and I ...</td>\n",
       "      <td>0</td>\n",
       "    </tr>\n",
       "    <tr>\n",
       "      <th>999</th>\n",
       "      <td>Then, as if I hadn't wasted enough of my life ...</td>\n",
       "      <td>0</td>\n",
       "    </tr>\n",
       "  </tbody>\n",
       "</table>\n",
       "<p>1000 rows × 2 columns</p>\n",
       "</div>"
      ],
      "text/plain": [
       "                                                  text  class\n",
       "0                             Wow... Loved this place.      1\n",
       "1                                   Crust is not good.      0\n",
       "2            Not tasty and the texture was just nasty.      0\n",
       "3    Stopped by during the late May bank holiday of...      1\n",
       "4    The selection on the menu was great and so wer...      1\n",
       "..                                                 ...    ...\n",
       "995  I think food should have flavor and texture an...      0\n",
       "996                           Appetite instantly gone.      0\n",
       "997  Overall I was not impressed and would not go b...      0\n",
       "998  The whole experience was underwhelming, and I ...      0\n",
       "999  Then, as if I hadn't wasted enough of my life ...      0\n",
       "\n",
       "[1000 rows x 2 columns]"
      ]
     },
     "execution_count": 59,
     "metadata": {},
     "output_type": "execute_result"
    }
   ],
   "source": [
    "yelp = pd.read_csv(\"yelp_labelled.txt\", sep=\"\\t\", header=None, names=[\"text\", \"class\"])\n",
    "yelp"
   ]
  },
  {
   "cell_type": "code",
   "execution_count": 63,
   "metadata": {},
   "outputs": [
    {
     "data": {
      "text/plain": [
       "11"
      ]
     },
     "execution_count": 63,
     "metadata": {},
     "output_type": "execute_result"
    }
   ],
   "source": [
    "yelp['text'].apply(len).min()"
   ]
  },
  {
   "cell_type": "code",
   "execution_count": 62,
   "metadata": {},
   "outputs": [
    {
     "data": {
      "text/plain": [
       "149"
      ]
     },
     "execution_count": 62,
     "metadata": {},
     "output_type": "execute_result"
    }
   ],
   "source": [
    "yelp['text'].apply(len).max()"
   ]
  },
  {
   "cell_type": "code",
   "execution_count": 3,
   "metadata": {},
   "outputs": [
    {
     "data": {
      "text/plain": [
       "{0, 1}"
      ]
     },
     "execution_count": 3,
     "metadata": {},
     "output_type": "execute_result"
    }
   ],
   "source": [
    "set(yelp['class'])"
   ]
  },
  {
   "cell_type": "code",
   "execution_count": 60,
   "metadata": {
    "colab": {
     "base_uri": "https://localhost:8080/"
    },
    "id": "6czLTLJyUDgQ",
    "outputId": "719a729a-9807-4ec0-9231-8324e5aa17d7"
   },
   "outputs": [
    {
     "data": {
      "text/plain": [
       "(1000, 2)"
      ]
     },
     "execution_count": 60,
     "metadata": {},
     "output_type": "execute_result"
    }
   ],
   "source": [
    "yelp.shape"
   ]
  },
  {
   "cell_type": "code",
   "execution_count": 5,
   "metadata": {
    "colab": {
     "base_uri": "https://localhost:8080/"
    },
    "id": "ctDq9TAkzc7m",
    "outputId": "1b697d58-5ea9-4388-e274-9a786753d49d"
   },
   "outputs": [
    {
     "data": {
      "text/html": [
       "<div>\n",
       "<style scoped>\n",
       "    .dataframe tbody tr th:only-of-type {\n",
       "        vertical-align: middle;\n",
       "    }\n",
       "\n",
       "    .dataframe tbody tr th {\n",
       "        vertical-align: top;\n",
       "    }\n",
       "\n",
       "    .dataframe thead th {\n",
       "        text-align: right;\n",
       "    }\n",
       "</style>\n",
       "<table border=\"1\" class=\"dataframe\">\n",
       "  <thead>\n",
       "    <tr style=\"text-align: right;\">\n",
       "      <th></th>\n",
       "      <th>class</th>\n",
       "    </tr>\n",
       "  </thead>\n",
       "  <tbody>\n",
       "    <tr>\n",
       "      <th>count</th>\n",
       "      <td>1000.00000</td>\n",
       "    </tr>\n",
       "    <tr>\n",
       "      <th>mean</th>\n",
       "      <td>0.50000</td>\n",
       "    </tr>\n",
       "    <tr>\n",
       "      <th>std</th>\n",
       "      <td>0.50025</td>\n",
       "    </tr>\n",
       "    <tr>\n",
       "      <th>min</th>\n",
       "      <td>0.00000</td>\n",
       "    </tr>\n",
       "    <tr>\n",
       "      <th>25%</th>\n",
       "      <td>0.00000</td>\n",
       "    </tr>\n",
       "    <tr>\n",
       "      <th>50%</th>\n",
       "      <td>0.50000</td>\n",
       "    </tr>\n",
       "    <tr>\n",
       "      <th>75%</th>\n",
       "      <td>1.00000</td>\n",
       "    </tr>\n",
       "    <tr>\n",
       "      <th>max</th>\n",
       "      <td>1.00000</td>\n",
       "    </tr>\n",
       "  </tbody>\n",
       "</table>\n",
       "</div>"
      ],
      "text/plain": [
       "            class\n",
       "count  1000.00000\n",
       "mean      0.50000\n",
       "std       0.50025\n",
       "min       0.00000\n",
       "25%       0.00000\n",
       "50%       0.50000\n",
       "75%       1.00000\n",
       "max       1.00000"
      ]
     },
     "execution_count": 5,
     "metadata": {},
     "output_type": "execute_result"
    }
   ],
   "source": [
    "yelp.describe()"
   ]
  },
  {
   "cell_type": "markdown",
   "metadata": {
    "id": "BovrkGCmVQTo"
   },
   "source": [
    "The dataset contains some subset of Yelp reviews. There are 1000 items of (text, class) pairs in the dataset. The class can be either 0 (negative), or 1 (positive).\n",
    "\n",
    "Zhang, Xiang, Junbo Zhao, and Yann LeCun. \"Character-level convolutional networks for text\n",
    "classification.\" Advances in neural information processing systems 28 (2015)."
   ]
  },
  {
   "cell_type": "markdown",
   "metadata": {
    "id": "r4Mlm8OMW2if"
   },
   "source": [
    "## 2. Process SentiWord data, describe the result."
   ]
  },
  {
   "cell_type": "markdown",
   "metadata": {
    "id": "7VgoOHPQaK5P"
   },
   "source": [
    "Mind difference in labeling:\n",
    "\n",
    "<b>sentences:</b> 0 – negative, 1 – positive;\n",
    "\n",
    "<b>words:</b> continuous scores from the range [-1, 1]\n",
    "\n",
    "Gatti, L., Guerini, M., & Turchi, M. (2015). SentiWords: Deriving a high precision and high coverage\n",
    "lexicon for sentiment analysis. IEEE Transactions on Affective Computing, 7(4), 409-421."
   ]
  },
  {
   "cell_type": "code",
   "execution_count": 65,
   "metadata": {},
   "outputs": [
    {
     "data": {
      "text/html": [
       "<div>\n",
       "<style scoped>\n",
       "    .dataframe tbody tr th:only-of-type {\n",
       "        vertical-align: middle;\n",
       "    }\n",
       "\n",
       "    .dataframe tbody tr th {\n",
       "        vertical-align: top;\n",
       "    }\n",
       "\n",
       "    .dataframe thead th {\n",
       "        text-align: right;\n",
       "    }\n",
       "</style>\n",
       "<table border=\"1\" class=\"dataframe\">\n",
       "  <thead>\n",
       "    <tr style=\"text-align: right;\">\n",
       "      <th></th>\n",
       "      <th>text</th>\n",
       "      <th>polarity</th>\n",
       "    </tr>\n",
       "  </thead>\n",
       "  <tbody>\n",
       "    <tr>\n",
       "      <th>0</th>\n",
       "      <td>.22_caliber#a</td>\n",
       "      <td>0.00000</td>\n",
       "    </tr>\n",
       "    <tr>\n",
       "      <th>1</th>\n",
       "      <td>.22_calibre#a</td>\n",
       "      <td>0.00000</td>\n",
       "    </tr>\n",
       "    <tr>\n",
       "      <th>2</th>\n",
       "      <td>.22-caliber#a</td>\n",
       "      <td>0.00000</td>\n",
       "    </tr>\n",
       "    <tr>\n",
       "      <th>3</th>\n",
       "      <td>.22-calibre#a</td>\n",
       "      <td>0.00000</td>\n",
       "    </tr>\n",
       "    <tr>\n",
       "      <th>4</th>\n",
       "      <td>.22#n</td>\n",
       "      <td>0.12208</td>\n",
       "    </tr>\n",
       "    <tr>\n",
       "      <th>...</th>\n",
       "      <td>...</td>\n",
       "      <td>...</td>\n",
       "    </tr>\n",
       "    <tr>\n",
       "      <th>155282</th>\n",
       "      <td>zymolytic#a</td>\n",
       "      <td>-0.19821</td>\n",
       "    </tr>\n",
       "    <tr>\n",
       "      <th>155283</th>\n",
       "      <td>zymosis#n</td>\n",
       "      <td>0.15754</td>\n",
       "    </tr>\n",
       "    <tr>\n",
       "      <th>155284</th>\n",
       "      <td>zymotic#a</td>\n",
       "      <td>-0.08847</td>\n",
       "    </tr>\n",
       "    <tr>\n",
       "      <th>155285</th>\n",
       "      <td>zymurgy#n</td>\n",
       "      <td>0.00000</td>\n",
       "    </tr>\n",
       "    <tr>\n",
       "      <th>155286</th>\n",
       "      <td>zyrian#n</td>\n",
       "      <td>0.00000</td>\n",
       "    </tr>\n",
       "  </tbody>\n",
       "</table>\n",
       "<p>155287 rows × 2 columns</p>\n",
       "</div>"
      ],
      "text/plain": [
       "                 text  polarity\n",
       "0       .22_caliber#a   0.00000\n",
       "1       .22_calibre#a   0.00000\n",
       "2       .22-caliber#a   0.00000\n",
       "3       .22-calibre#a   0.00000\n",
       "4               .22#n   0.12208\n",
       "...               ...       ...\n",
       "155282    zymolytic#a  -0.19821\n",
       "155283      zymosis#n   0.15754\n",
       "155284      zymotic#a  -0.08847\n",
       "155285      zymurgy#n   0.00000\n",
       "155286       zyrian#n   0.00000\n",
       "\n",
       "[155287 rows x 2 columns]"
      ]
     },
     "execution_count": 65,
     "metadata": {},
     "output_type": "execute_result"
    }
   ],
   "source": [
    "df_sentiword = pd.read_csv(\"SentiWords_1.1.txt\", sep=\"\\t\", header=None, names=[\"text\", \"polarity\"], skiprows=26)\n",
    "df_sentiword"
   ]
  },
  {
   "cell_type": "code",
   "execution_count": 66,
   "metadata": {
    "colab": {
     "base_uri": "https://localhost:8080/",
     "height": 423
    },
    "id": "gF7ppJkzW1hs",
    "outputId": "78dd0e4b-bb21-42ba-de94-9e845066757b"
   },
   "outputs": [
    {
     "data": {
      "text/html": [
       "<div>\n",
       "<style scoped>\n",
       "    .dataframe tbody tr th:only-of-type {\n",
       "        vertical-align: middle;\n",
       "    }\n",
       "\n",
       "    .dataframe tbody tr th {\n",
       "        vertical-align: top;\n",
       "    }\n",
       "\n",
       "    .dataframe thead th {\n",
       "        text-align: right;\n",
       "    }\n",
       "</style>\n",
       "<table border=\"1\" class=\"dataframe\">\n",
       "  <thead>\n",
       "    <tr style=\"text-align: right;\">\n",
       "      <th></th>\n",
       "      <th>lemma</th>\n",
       "      <th>PoS</th>\n",
       "      <th>polarity</th>\n",
       "    </tr>\n",
       "  </thead>\n",
       "  <tbody>\n",
       "    <tr>\n",
       "      <th>0</th>\n",
       "      <td>.22_caliber</td>\n",
       "      <td>a</td>\n",
       "      <td>0.00000</td>\n",
       "    </tr>\n",
       "    <tr>\n",
       "      <th>1</th>\n",
       "      <td>.22_calibre</td>\n",
       "      <td>a</td>\n",
       "      <td>0.00000</td>\n",
       "    </tr>\n",
       "    <tr>\n",
       "      <th>2</th>\n",
       "      <td>.22-caliber</td>\n",
       "      <td>a</td>\n",
       "      <td>0.00000</td>\n",
       "    </tr>\n",
       "    <tr>\n",
       "      <th>3</th>\n",
       "      <td>.22-calibre</td>\n",
       "      <td>a</td>\n",
       "      <td>0.00000</td>\n",
       "    </tr>\n",
       "    <tr>\n",
       "      <th>4</th>\n",
       "      <td>.22</td>\n",
       "      <td>n</td>\n",
       "      <td>0.12208</td>\n",
       "    </tr>\n",
       "  </tbody>\n",
       "</table>\n",
       "</div>"
      ],
      "text/plain": [
       "         lemma PoS  polarity\n",
       "0  .22_caliber   a   0.00000\n",
       "1  .22_calibre   a   0.00000\n",
       "2  .22-caliber   a   0.00000\n",
       "3  .22-calibre   a   0.00000\n",
       "4          .22   n   0.12208"
      ]
     },
     "execution_count": 66,
     "metadata": {},
     "output_type": "execute_result"
    }
   ],
   "source": [
    "df_sentiword[['lemma', 'PoS']] = df_sentiword['text'].str.split('#', expand=True)\n",
    "df_sentiword = df_sentiword[['lemma', 'PoS', 'polarity']].astype({'polarity': float})\n",
    "\n",
    "df_sentiword.head()"
   ]
  },
  {
   "cell_type": "code",
   "execution_count": 7,
   "metadata": {},
   "outputs": [
    {
     "data": {
      "text/plain": [
       "0.89489"
      ]
     },
     "execution_count": 7,
     "metadata": {},
     "output_type": "execute_result"
    }
   ],
   "source": [
    "max(df_sentiword['polarity'])"
   ]
  },
  {
   "cell_type": "code",
   "execution_count": 8,
   "metadata": {},
   "outputs": [
    {
     "data": {
      "text/plain": [
       "-0.93489"
      ]
     },
     "execution_count": 8,
     "metadata": {},
     "output_type": "execute_result"
    }
   ],
   "source": [
    "min(df_sentiword['polarity'])"
   ]
  },
  {
   "cell_type": "code",
   "execution_count": 9,
   "metadata": {
    "id": "-IbBg0ZEMeiW"
   },
   "outputs": [],
   "source": [
    "sentiword_dict = {\n",
    "    f\"{lemma}#{pos}\": i\n",
    "    for i, (lemma, pos) in enumerate(zip(df_sentiword['lemma'], df_sentiword['PoS']))\n",
    "}"
   ]
  },
  {
   "cell_type": "code",
   "execution_count": 10,
   "metadata": {
    "colab": {
     "base_uri": "https://localhost:8080/"
    },
    "id": "BwSKfNYOX4SI",
    "outputId": "b14ee570-b63b-4a2a-ec1a-40f970528f40"
   },
   "outputs": [
    {
     "data": {
      "text/plain": [
       "(155287, 3)"
      ]
     },
     "execution_count": 10,
     "metadata": {},
     "output_type": "execute_result"
    }
   ],
   "source": [
    "df_sentiword.shape"
   ]
  },
  {
   "cell_type": "code",
   "execution_count": 11,
   "metadata": {
    "colab": {
     "base_uri": "https://localhost:8080/",
     "height": 300
    },
    "id": "iUb_9v0Uaotw",
    "outputId": "9c151291-30d0-4767-dce1-96171230af4c"
   },
   "outputs": [
    {
     "data": {
      "text/html": [
       "<div>\n",
       "<style scoped>\n",
       "    .dataframe tbody tr th:only-of-type {\n",
       "        vertical-align: middle;\n",
       "    }\n",
       "\n",
       "    .dataframe tbody tr th {\n",
       "        vertical-align: top;\n",
       "    }\n",
       "\n",
       "    .dataframe thead th {\n",
       "        text-align: right;\n",
       "    }\n",
       "</style>\n",
       "<table border=\"1\" class=\"dataframe\">\n",
       "  <thead>\n",
       "    <tr style=\"text-align: right;\">\n",
       "      <th></th>\n",
       "      <th>polarity</th>\n",
       "    </tr>\n",
       "  </thead>\n",
       "  <tbody>\n",
       "    <tr>\n",
       "      <th>count</th>\n",
       "      <td>155287.000000</td>\n",
       "    </tr>\n",
       "    <tr>\n",
       "      <th>mean</th>\n",
       "      <td>-0.009101</td>\n",
       "    </tr>\n",
       "    <tr>\n",
       "      <th>std</th>\n",
       "      <td>0.128313</td>\n",
       "    </tr>\n",
       "    <tr>\n",
       "      <th>min</th>\n",
       "      <td>-0.934890</td>\n",
       "    </tr>\n",
       "    <tr>\n",
       "      <th>25%</th>\n",
       "      <td>0.000000</td>\n",
       "    </tr>\n",
       "    <tr>\n",
       "      <th>50%</th>\n",
       "      <td>0.000000</td>\n",
       "    </tr>\n",
       "    <tr>\n",
       "      <th>75%</th>\n",
       "      <td>0.000000</td>\n",
       "    </tr>\n",
       "    <tr>\n",
       "      <th>max</th>\n",
       "      <td>0.894890</td>\n",
       "    </tr>\n",
       "  </tbody>\n",
       "</table>\n",
       "</div>"
      ],
      "text/plain": [
       "            polarity\n",
       "count  155287.000000\n",
       "mean       -0.009101\n",
       "std         0.128313\n",
       "min        -0.934890\n",
       "25%         0.000000\n",
       "50%         0.000000\n",
       "75%         0.000000\n",
       "max         0.894890"
      ]
     },
     "execution_count": 11,
     "metadata": {},
     "output_type": "execute_result"
    }
   ],
   "source": [
    "df_sentiword.describe()"
   ]
  },
  {
   "cell_type": "code",
   "execution_count": 12,
   "metadata": {
    "colab": {
     "base_uri": "https://localhost:8080/",
     "height": 545
    },
    "id": "poyUwLsFsE8X",
    "outputId": "4e772674-4014-4e0a-9ff7-390cfb17241a"
   },
   "outputs": [
    {
     "data": {
      "image/png": "[encoded data removed]",
      "text/plain": [
       "<Figure size 1000x600 with 1 Axes>"
      ]
     },
     "metadata": {},
     "output_type": "display_data"
    }
   ],
   "source": [
    "# Group the DataFrame by 'PoS' and calculate the mean polarity for each 'PoS'\n",
    "pos_polarity = df_sentiword.groupby('PoS')['polarity'].mean().sort_values(ascending=False)\n",
    "\n",
    "# Create a bar chart\n",
    "plt.figure(figsize=(10, 6))\n",
    "pos_polarity.plot(kind='bar', alpha=0.7)\n",
    "\n",
    "# Customize the bar chart\n",
    "plt.title('Average Lemma Polarity by Part-of-Speech')\n",
    "plt.xlabel('Part-of-Speech')\n",
    "plt.ylabel('Average Polarity')\n",
    "plt.xticks(rotation=0)\n",
    "\n",
    "# Show the bar chart\n",
    "plt.tight_layout()\n",
    "plt.show()\n"
   ]
  },
  {
   "cell_type": "code",
   "execution_count": 13,
   "metadata": {
    "colab": {
     "base_uri": "https://localhost:8080/"
    },
    "id": "g-eA2_1jhN_F",
    "outputId": "c841789e-7d7d-4201-884f-5dcfcbe2e620"
   },
   "outputs": [
    {
     "name": "stdout",
     "output_type": "stream",
     "text": [
      "N properties:\n",
      "Number of positive: 9271\n",
      "Number of negative: 12393\n",
      "Number of neutral: 96134\n",
      "Number of average: -0.007742838588091478\n",
      "Number of variance: 0.010221515249068818\n",
      "Number of standard deviation: 0.10110150962804076\n",
      "Number of total: 117798\n",
      "\n",
      "A properties:\n",
      "Number of positive: 5322\n",
      "Number of negative: 7325\n",
      "Number of neutral: 8832\n",
      "Number of average: -0.032539501839005544\n",
      "Number of variance: 0.04374603593623428\n",
      "Number of standard deviation: 0.20915553049401844\n",
      "Number of total: 21479\n",
      "\n",
      "V properties:\n",
      "Number of positive: 2299\n",
      "Number of negative: 2278\n",
      "Number of neutral: 6952\n",
      "Number of average: -0.005207508890623645\n",
      "Number of variance: 0.026626910594054018\n",
      "Number of standard deviation: 0.16317754316710992\n",
      "Number of total: 11529\n",
      "\n",
      "R properties:\n",
      "Number of positive: 2201\n",
      "Number of negative: 513\n",
      "Number of neutral: 1767\n",
      "Number of average: 0.05753568399910735\n",
      "Number of variance: 0.016493137284430408\n",
      "Number of standard deviation: 0.12842560992430757\n",
      "Number of total: 4481\n",
      "\n"
     ]
    }
   ],
   "source": [
    "def analyze_polarity_by_pos(df, pos_tag):\n",
    "    pos_filter = df['PoS'] == pos_tag\n",
    "    filtered_df = df[pos_filter]\n",
    "\n",
    "    polarities = filtered_df['polarity']\n",
    "    positive = polarities[polarities > 0]\n",
    "    negative = polarities[polarities < 0]\n",
    "    neutral = polarities[polarities == 0]\n",
    "\n",
    "    stats = {\n",
    "        'Positive': len(positive),\n",
    "        'Negative': len(negative),\n",
    "        'Neutral': len(neutral),\n",
    "        'Average': np.average(polarities),\n",
    "        'Variance': np.var(polarities),\n",
    "        'Standard deviation': np.std(polarities),\n",
    "        'Total': len(polarities),\n",
    "    }\n",
    "\n",
    "    print(f'{pos_tag.capitalize()} properties:')\n",
    "    for stat_name, stat_value in stats.items():\n",
    "        print(f'Number of {stat_name.lower()}: {stat_value}')\n",
    "    print()\n",
    "\n",
    "\n",
    "# Analyze polarities for nouns, adjectives, verbs, and adverbs\n",
    "analyze_polarity_by_pos(df_sentiword, 'n')\n",
    "analyze_polarity_by_pos(df_sentiword, 'a')\n",
    "analyze_polarity_by_pos(df_sentiword, 'v')\n",
    "analyze_polarity_by_pos(df_sentiword, 'r')\n"
   ]
  },
  {
   "cell_type": "code",
   "execution_count": 14,
   "metadata": {
    "colab": {
     "base_uri": "https://localhost:8080/",
     "height": 700
    },
    "id": "Gzm7shUnBibr",
    "outputId": "8607ed21-2625-440d-b51a-840b23e477e8"
   },
   "outputs": [
    {
     "data": {
      "image/png": "[encoded data removed]",
      "text/plain": [
       "<Figure size 1000x1000 with 4 Axes>"
      ]
     },
     "metadata": {},
     "output_type": "display_data"
    }
   ],
   "source": [
    "# Define the data\n",
    "categories = ['Positive', 'Negative', 'Neutral']\n",
    "adjectives = [0, 0, 0]\n",
    "adverbs = [0, 0, 0]\n",
    "nouns = [0, 0, 0]\n",
    "verbs = [0, 0, 0]\n",
    "\n",
    "for x in df_sentiword[df_sentiword['PoS'] == 'n']['polarity']:\n",
    "    if x > 0: nouns[0] += 1\n",
    "    elif x < 0: nouns[1] += 1\n",
    "    else: nouns[2] += 1\n",
    "\n",
    "for x in df_sentiword[df_sentiword['PoS'] == 'a']['polarity']:\n",
    "    if x > 0: adjectives[0] += 1\n",
    "    elif x < 0: adjectives[1] += 1\n",
    "    else: adjectives[2] += 1\n",
    "        \n",
    "for x in df_sentiword[df_sentiword['PoS'] == 'v']['polarity']:\n",
    "    if x > 0: verbs[0] += 1\n",
    "    elif x < 0: verbs[1] += 1\n",
    "    else: verbs[2] += 1\n",
    "        \n",
    "for x in df_sentiword[df_sentiword['PoS'] == 'r']['polarity']:\n",
    "    if x > 0: adverbs[0] += 1\n",
    "    elif x < 0: adverbs[1] += 1\n",
    "    else: adverbs[2] += 1\n",
    "\n",
    "# Create a 2x2 grid of pie charts\n",
    "fig, axs = plt.subplots(2, 2, figsize=(10, 10))\n",
    "\n",
    "# Create a function to add data and labels to the pie chart\n",
    "def add_pie_chart(ax, data, labels, title):\n",
    "    wedges, texts, autotexts = ax.pie(data, labels=labels, autopct='%1.1f%%', startangle=90, colors=['skyblue', 'lightcoral', 'lightgreen'], pctdistance=0.85, textprops={'fontweight': 'bold'})\n",
    "    ax.axis('equal')\n",
    "    ax.set_title(title, fontweight='bold', fontsize=12)\n",
    "    \n",
    "    for i, p in enumerate(wedges):\n",
    "        count = data[i]\n",
    "        angle = (p.theta2 - p.theta1) / 2.0 + p.theta1\n",
    "        x = 0.85 * p.r * np.cos(np.deg2rad(angle))\n",
    "        y = 0.85 * p.r * np.sin(np.deg2rad(angle))\n",
    "        text = ax.text(x, y, f'\\n\\n{count}', ha='center', va='center', fontsize=10, fontweight='bold')\n",
    "\n",
    "# Add data to the pie charts for each part of speech\n",
    "add_pie_chart(axs[0, 0], adjectives, categories, 'Adjectives')\n",
    "add_pie_chart(axs[0, 1], nouns, categories, 'Adjectives')\n",
    "add_pie_chart(axs[1, 0], verbs, categories, 'Verbs')\n",
    "add_pie_chart(axs[1, 1], adverbs, categories, 'Adverbs')\n",
    "\n",
    "# Adjust spacing\n",
    "plt.tight_layout()\n",
    "\n",
    "# Display the 2x2 grid of pie charts\n",
    "plt.show()"
   ]
  },
  {
   "cell_type": "markdown",
   "metadata": {
    "id": "iVEHxNYvJZmB"
   },
   "source": [
    "## Sentiment analysis"
   ]
  },
  {
   "cell_type": "code",
   "execution_count": 15,
   "metadata": {
    "colab": {
     "base_uri": "https://localhost:8080/"
    },
    "id": "bFzyB3zoJj8_",
    "outputId": "a83b428c-fc64-4054-fb0b-a09f3d1cc4cf"
   },
   "outputs": [
    {
     "name": "stderr",
     "output_type": "stream",
     "text": [
      "2023-09-21 18:53:35 INFO: Loading these models for language: en (English):\n",
      "=================================\n",
      "| Processor | Package           |\n",
      "---------------------------------\n",
      "| tokenize  | combined          |\n",
      "| pos       | combined_charlm   |\n",
      "| lemma     | combined_nocharlm |\n",
      "=================================\n",
      "\n",
      "2023-09-21 18:53:35 INFO: Using device: cpu\n",
      "2023-09-21 18:53:35 INFO: Loading: tokenize\n",
      "2023-09-21 18:53:35 INFO: Loading: pos\n",
      "2023-09-21 18:53:35 INFO: Loading: lemma\n",
      "2023-09-21 18:53:35 INFO: Done loading processors!\n"
     ]
    }
   ],
   "source": [
    "def create_stanza_pipeline(language='en', processors='tokenize,pos,lemma', download_method=\"reuse_resources\"):\n",
    "    pipeline = stanza.Pipeline(lang=language, processors=processors, download_method=download_method)\n",
    "    return pipeline\n",
    "\n",
    "nlp = create_stanza_pipeline()"
   ]
  },
  {
   "cell_type": "code",
   "execution_count": 16,
   "metadata": {
    "id": "c7t1pJSPJvLa"
   },
   "outputs": [
    {
     "data": {
      "text/plain": [
       "{'develop': 'v',\n",
       " 'lexicon': 'n',\n",
       " 'base': 'v',\n",
       " 'sentiment': 'n',\n",
       " 'classifier': 'n',\n",
       " 'use': 'v',\n",
       " 'Stanza': 'n',\n",
       " 'lemmatization': 'n',\n",
       " 'pos': 'n',\n",
       " 'tagging': 'n',\n",
       " 'mind': 'n',\n",
       " 'difference': 'n',\n",
       " 'labeling': 'n',\n",
       " 'sentence': 'n',\n",
       " 'negative': 'a',\n",
       " 'positive': 'a',\n",
       " 'word': 'n',\n",
       " 'continuous': 'a',\n",
       " 'score': 'n',\n",
       " 'range': 'n',\n",
       " 'note': 'v',\n",
       " 'SentiWords': 'n',\n",
       " 'different': 'a',\n",
       " 'tag': 'n',\n",
       " 'set': 'n'}"
      ]
     },
     "execution_count": 16,
     "metadata": {},
     "output_type": "execute_result"
    }
   ],
   "source": [
    "def lemmatize_stanza(txt):\n",
    "    doc = nlp(txt)\n",
    "    lemmatized = {word.lemma: pos_mapping.get(word.pos, word.pos) for sentence in doc.sentences \n",
    "                  for word in sentence.words if word.pos not in ['PUNCT', 'SCONJ', 'DET', 'ADP', 'INTJ', 'CCONJ', 'NUM', 'PART', 'SYM', 'X']}\n",
    "    return lemmatized\n",
    "\n",
    "\n",
    "pos_mapping = {\n",
    "    'AUX': 'v',\n",
    "    'NOUN': 'n',\n",
    "    'PRON': 'n',\n",
    "    'ADV': 'r',\n",
    "    'VERB': 'v',\n",
    "    'ADJ': 'a',\n",
    "    'PROPN': 'n',\n",
    "}\n",
    "\n",
    "\n",
    "lemmatize_stanza(\"Develop a lexicon-based sentiment classifier using Stanza for lemmatization and POS-tagging.(Mind difference in labeling: sentences: 0 – negative, 1 – positive; words: continuous scores from the range [-1, 1]. Note that SentiWords and Stanza use different POS tag sets.) (35)\")"
   ]
  },
  {
   "cell_type": "code",
   "execution_count": 29,
   "metadata": {
    "id": "PlaHAc5VI7RG"
   },
   "outputs": [],
   "source": [
    "def sentiwords_score(lemmatized):\n",
    "    scores = []\n",
    "    for key, value in lemmatized.items():\n",
    "        if value in ('n', 'v', 'r', 'a'):\n",
    "            if key + '#' + value in sentiword_dict:\n",
    "                score = df_sentiword['polarity'][sentiword_dict[key + '#' + value]]\n",
    "                scores.append(score)\n",
    "            else:\n",
    "                scores.append(0)\n",
    "        else:\n",
    "            scores.append(0)\n",
    "        \n",
    "    return 0 if np.average(scores) < 0 else 1"
   ]
  },
  {
   "cell_type": "code",
   "execution_count": 51,
   "metadata": {},
   "outputs": [],
   "source": [
    "def sentiwords_score(lemmatized):\n",
    "    scores = [df_sentiword['polarity'][sentiword_dict[key + '#' + value]] for key, value in lemmatized.items() if value in ('n', 'v', 'r', 'a') and key + '#' + value in sentiword_dict]\n",
    "    return int(np.average(scores) >= 0)"
   ]
  },
  {
   "cell_type": "code",
   "execution_count": 56,
   "metadata": {},
   "outputs": [
    {
     "data": {
      "text/plain": [
       "1"
      ]
     },
     "execution_count": 56,
     "metadata": {},
     "output_type": "execute_result"
    }
   ],
   "source": [
    "sentiwords_score(lemmatize_stanza(\"Develop a lexicon-based sentiment classifier using Stanza for lemmatization and POS-tagging.(Mind difference in labeling: sentences: 0 – negative, 1 – positive; words: continuous scores from the range [-1, 1]. Note that SentiWords and Stanza use different POS tag sets.) (35)\"))"
   ]
  },
  {
   "cell_type": "code",
   "execution_count": 74,
   "metadata": {},
   "outputs": [
    {
     "name": "stderr",
     "output_type": "stream",
     "text": [
      "/Users/azamatshora/anaconda3/lib/python3.11/site-packages/numpy/lib/function_base.py:518: RuntimeWarning: Mean of empty slice.\n",
      "  avg = a.mean(axis, **keepdims_kw)\n"
     ]
    },
    {
     "data": {
      "text/html": [
       "<div>\n",
       "<style scoped>\n",
       "    .dataframe tbody tr th:only-of-type {\n",
       "        vertical-align: middle;\n",
       "    }\n",
       "\n",
       "    .dataframe tbody tr th {\n",
       "        vertical-align: top;\n",
       "    }\n",
       "\n",
       "    .dataframe thead th {\n",
       "        text-align: right;\n",
       "    }\n",
       "</style>\n",
       "<table border=\"1\" class=\"dataframe\">\n",
       "  <thead>\n",
       "    <tr style=\"text-align: right;\">\n",
       "      <th></th>\n",
       "      <th>text</th>\n",
       "      <th>class</th>\n",
       "      <th>polarity</th>\n",
       "    </tr>\n",
       "  </thead>\n",
       "  <tbody>\n",
       "    <tr>\n",
       "      <th>0</th>\n",
       "      <td>Wow... Loved this place.</td>\n",
       "      <td>1</td>\n",
       "      <td>1</td>\n",
       "    </tr>\n",
       "    <tr>\n",
       "      <th>1</th>\n",
       "      <td>Crust is not good.</td>\n",
       "      <td>0</td>\n",
       "      <td>1</td>\n",
       "    </tr>\n",
       "    <tr>\n",
       "      <th>2</th>\n",
       "      <td>Not tasty and the texture was just nasty.</td>\n",
       "      <td>0</td>\n",
       "      <td>1</td>\n",
       "    </tr>\n",
       "    <tr>\n",
       "      <th>3</th>\n",
       "      <td>Stopped by during the late May bank holiday of...</td>\n",
       "      <td>1</td>\n",
       "      <td>1</td>\n",
       "    </tr>\n",
       "    <tr>\n",
       "      <th>4</th>\n",
       "      <td>The selection on the menu was great and so wer...</td>\n",
       "      <td>1</td>\n",
       "      <td>1</td>\n",
       "    </tr>\n",
       "    <tr>\n",
       "      <th>...</th>\n",
       "      <td>...</td>\n",
       "      <td>...</td>\n",
       "      <td>...</td>\n",
       "    </tr>\n",
       "    <tr>\n",
       "      <th>995</th>\n",
       "      <td>I think food should have flavor and texture an...</td>\n",
       "      <td>0</td>\n",
       "      <td>1</td>\n",
       "    </tr>\n",
       "    <tr>\n",
       "      <th>996</th>\n",
       "      <td>Appetite instantly gone.</td>\n",
       "      <td>0</td>\n",
       "      <td>0</td>\n",
       "    </tr>\n",
       "    <tr>\n",
       "      <th>997</th>\n",
       "      <td>Overall I was not impressed and would not go b...</td>\n",
       "      <td>0</td>\n",
       "      <td>1</td>\n",
       "    </tr>\n",
       "    <tr>\n",
       "      <th>998</th>\n",
       "      <td>The whole experience was underwhelming, and I ...</td>\n",
       "      <td>0</td>\n",
       "      <td>1</td>\n",
       "    </tr>\n",
       "    <tr>\n",
       "      <th>999</th>\n",
       "      <td>Then, as if I hadn't wasted enough of my life ...</td>\n",
       "      <td>0</td>\n",
       "      <td>1</td>\n",
       "    </tr>\n",
       "  </tbody>\n",
       "</table>\n",
       "<p>1000 rows × 3 columns</p>\n",
       "</div>"
      ],
      "text/plain": [
       "                                                  text  class  polarity\n",
       "0                             Wow... Loved this place.      1         1\n",
       "1                                   Crust is not good.      0         1\n",
       "2            Not tasty and the texture was just nasty.      0         1\n",
       "3    Stopped by during the late May bank holiday of...      1         1\n",
       "4    The selection on the menu was great and so wer...      1         1\n",
       "..                                                 ...    ...       ...\n",
       "995  I think food should have flavor and texture an...      0         1\n",
       "996                           Appetite instantly gone.      0         0\n",
       "997  Overall I was not impressed and would not go b...      0         1\n",
       "998  The whole experience was underwhelming, and I ...      0         1\n",
       "999  Then, as if I hadn't wasted enough of my life ...      0         1\n",
       "\n",
       "[1000 rows x 3 columns]"
      ]
     },
     "execution_count": 74,
     "metadata": {},
     "output_type": "execute_result"
    }
   ],
   "source": [
    "yelp['polarity'] = yelp['text'].apply(lambda text: sentiwords_score(lemmatize_stanza(text)))\n",
    "yelp"
   ]
  },
  {
   "cell_type": "code",
   "execution_count": 75,
   "metadata": {},
   "outputs": [
    {
     "data": {
      "image/png": "[encoded data removed]",
      "text/plain": [
       "<Figure size 640x480 with 2 Axes>"
      ]
     },
     "metadata": {},
     "output_type": "display_data"
    }
   ],
   "source": [
    "conf_matrix = confusion_matrix(yelp['class'], yelp['polarity'])\n",
    "plot = ConfusionMatrixDisplay(confusion_matrix=conf_matrix, display_labels=['negative', 'positive'])\n",
    "plot.plot()\n",
    "plt.show()"
   ]
  },
  {
   "cell_type": "code",
   "execution_count": 80,
   "metadata": {},
   "outputs": [
    {
     "name": "stdout",
     "output_type": "stream",
     "text": [
      "F1-Score (Negative): 0.32619439868204286\n",
      "F1-Score (Positive): 0.7063890882986361\n"
     ]
    }
   ],
   "source": [
    "# Calculate F1-scores for both negative and positive classes\n",
    "f1_scores = f1_score(yelp['class'], yelp['polarity'], average=None)\n",
    "\n",
    "# Print the F1-scores\n",
    "print(f\"F1-Score (Negative): {f1_scores[0]}\")\n",
    "print(f\"F1-Score (Positive): {f1_scores[1]}\")"
   ]
  },
  {
   "cell_type": "code",
   "execution_count": 81,
   "metadata": {},
   "outputs": [
    {
     "name": "stderr",
     "output_type": "stream",
     "text": [
      "2023-09-21 20:53:36 INFO: Loading these models for language: en (English):\n",
      "========================\n",
      "| Processor | Package  |\n",
      "------------------------\n",
      "| tokenize  | combined |\n",
      "| sentiment | sstplus  |\n",
      "========================\n",
      "\n",
      "2023-09-21 20:53:36 INFO: Using device: cpu\n",
      "2023-09-21 20:53:36 INFO: Loading: tokenize\n",
      "2023-09-21 20:53:36 INFO: Loading: sentiment\n",
      "2023-09-21 20:53:37 INFO: Done loading processors!\n"
     ]
    }
   ],
   "source": [
    "nlp = create_stanza_pipeline(language='en', processors='tokenize,sentiment', download_method=\"reuse_resources\")"
   ]
  },
  {
   "cell_type": "code",
   "execution_count": 82,
   "metadata": {},
   "outputs": [
    {
     "data": {
      "text/html": [
       "<div>\n",
       "<style scoped>\n",
       "    .dataframe tbody tr th:only-of-type {\n",
       "        vertical-align: middle;\n",
       "    }\n",
       "\n",
       "    .dataframe tbody tr th {\n",
       "        vertical-align: top;\n",
       "    }\n",
       "\n",
       "    .dataframe thead th {\n",
       "        text-align: right;\n",
       "    }\n",
       "</style>\n",
       "<table border=\"1\" class=\"dataframe\">\n",
       "  <thead>\n",
       "    <tr style=\"text-align: right;\">\n",
       "      <th></th>\n",
       "      <th>text</th>\n",
       "      <th>class</th>\n",
       "      <th>polarity</th>\n",
       "      <th>stanza_polarity</th>\n",
       "    </tr>\n",
       "  </thead>\n",
       "  <tbody>\n",
       "    <tr>\n",
       "      <th>0</th>\n",
       "      <td>Wow... Loved this place.</td>\n",
       "      <td>1</td>\n",
       "      <td>1</td>\n",
       "      <td>1</td>\n",
       "    </tr>\n",
       "    <tr>\n",
       "      <th>1</th>\n",
       "      <td>Crust is not good.</td>\n",
       "      <td>0</td>\n",
       "      <td>1</td>\n",
       "      <td>0</td>\n",
       "    </tr>\n",
       "    <tr>\n",
       "      <th>2</th>\n",
       "      <td>Not tasty and the texture was just nasty.</td>\n",
       "      <td>0</td>\n",
       "      <td>1</td>\n",
       "      <td>0</td>\n",
       "    </tr>\n",
       "    <tr>\n",
       "      <th>3</th>\n",
       "      <td>Stopped by during the late May bank holiday of...</td>\n",
       "      <td>1</td>\n",
       "      <td>1</td>\n",
       "      <td>1</td>\n",
       "    </tr>\n",
       "    <tr>\n",
       "      <th>4</th>\n",
       "      <td>The selection on the menu was great and so wer...</td>\n",
       "      <td>1</td>\n",
       "      <td>1</td>\n",
       "      <td>1</td>\n",
       "    </tr>\n",
       "    <tr>\n",
       "      <th>...</th>\n",
       "      <td>...</td>\n",
       "      <td>...</td>\n",
       "      <td>...</td>\n",
       "      <td>...</td>\n",
       "    </tr>\n",
       "    <tr>\n",
       "      <th>995</th>\n",
       "      <td>I think food should have flavor and texture an...</td>\n",
       "      <td>0</td>\n",
       "      <td>1</td>\n",
       "      <td>0</td>\n",
       "    </tr>\n",
       "    <tr>\n",
       "      <th>996</th>\n",
       "      <td>Appetite instantly gone.</td>\n",
       "      <td>0</td>\n",
       "      <td>0</td>\n",
       "      <td>0</td>\n",
       "    </tr>\n",
       "    <tr>\n",
       "      <th>997</th>\n",
       "      <td>Overall I was not impressed and would not go b...</td>\n",
       "      <td>0</td>\n",
       "      <td>1</td>\n",
       "      <td>0</td>\n",
       "    </tr>\n",
       "    <tr>\n",
       "      <th>998</th>\n",
       "      <td>The whole experience was underwhelming, and I ...</td>\n",
       "      <td>0</td>\n",
       "      <td>1</td>\n",
       "      <td>0</td>\n",
       "    </tr>\n",
       "    <tr>\n",
       "      <th>999</th>\n",
       "      <td>Then, as if I hadn't wasted enough of my life ...</td>\n",
       "      <td>0</td>\n",
       "      <td>1</td>\n",
       "      <td>0</td>\n",
       "    </tr>\n",
       "  </tbody>\n",
       "</table>\n",
       "<p>1000 rows × 4 columns</p>\n",
       "</div>"
      ],
      "text/plain": [
       "                                                  text  class  polarity  \\\n",
       "0                             Wow... Loved this place.      1         1   \n",
       "1                                   Crust is not good.      0         1   \n",
       "2            Not tasty and the texture was just nasty.      0         1   \n",
       "3    Stopped by during the late May bank holiday of...      1         1   \n",
       "4    The selection on the menu was great and so wer...      1         1   \n",
       "..                                                 ...    ...       ...   \n",
       "995  I think food should have flavor and texture an...      0         1   \n",
       "996                           Appetite instantly gone.      0         0   \n",
       "997  Overall I was not impressed and would not go b...      0         1   \n",
       "998  The whole experience was underwhelming, and I ...      0         1   \n",
       "999  Then, as if I hadn't wasted enough of my life ...      0         1   \n",
       "\n",
       "     stanza_polarity  \n",
       "0                  1  \n",
       "1                  0  \n",
       "2                  0  \n",
       "3                  1  \n",
       "4                  1  \n",
       "..               ...  \n",
       "995                0  \n",
       "996                0  \n",
       "997                0  \n",
       "998                0  \n",
       "999                0  \n",
       "\n",
       "[1000 rows x 4 columns]"
      ]
     },
     "execution_count": 82,
     "metadata": {},
     "output_type": "execute_result"
    }
   ],
   "source": [
    "yelp['stanza_polarity'] = yelp['text'].apply(lambda item: 1 if np.average([sentence.sentiment for sentence in nlp(item).sentences]) > 1 else 0)\n",
    "\n",
    "yelp"
   ]
  },
  {
   "cell_type": "code",
   "execution_count": 100,
   "metadata": {},
   "outputs": [
    {
     "data": {
      "image/png": "[encoded data removed]",
      "text/plain": [
       "<Figure size 640x480 with 2 Axes>"
      ]
     },
     "metadata": {},
     "output_type": "display_data"
    }
   ],
   "source": [
    "conf_matrix = confusion_matrix(yelp['class'], yelp['stanza_polarity'])\n",
    "\n",
    "# Create and display the confusion matrix plot with custom colors\n",
    "ConfusionMatrixDisplay(confusion_matrix=conf_matrix, display_labels=['negative', 'positive']).plot()\n",
    "plt.show()"
   ]
  },
  {
   "cell_type": "code",
   "execution_count": 85,
   "metadata": {},
   "outputs": [
    {
     "name": "stdout",
     "output_type": "stream",
     "text": [
      "F1-Score (Negative): 0.9726027397260274\n",
      "F1-Score (Positive): 0.9713701431492843\n"
     ]
    }
   ],
   "source": [
    "# Calculate F1-scores for both negative and positive classes\n",
    "f1_scores = f1_score(yelp['class'], yelp['stanza_polarity'], average=None)\n",
    "\n",
    "# Print the F1-scores\n",
    "print(f\"F1-Score (Negative): {f1_scores[0]}\")\n",
    "print(f\"F1-Score (Positive): {f1_scores[1]}\")"
   ]
  },
  {
   "cell_type": "code",
   "execution_count": null,
   "metadata": {},
   "outputs": [],
   "source": []
  }
 ],
 "metadata": {
  "colab": {
   "collapsed_sections": [
    "484hQNHbTxm4"
   ],
   "provenance": []
  },
  "kernelspec": {
   "display_name": "Python 3 (ipykernel)",
   "language": "python",
   "name": "python3"
  },
  "language_info": {
   "codemirror_mode": {
    "name": "ipython",
    "version": 3
   },
   "file_extension": ".py",
   "mimetype": "text/x-python",
   "name": "python",
   "nbconvert_exporter": "python",
   "pygments_lexer": "ipython3",
   "version": "3.11.4"
  }
 },
 "nbformat": 4,
 "nbformat_minor": 1
}
